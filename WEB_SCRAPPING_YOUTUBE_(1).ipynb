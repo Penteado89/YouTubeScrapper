{
  "cells": [
    {
      "cell_type": "code",
      "source": [
        "pip install youtube_comment_downloader"
      ],
      "metadata": {
        "id": "lOJEmDupRSDX"
      },
      "execution_count": null,
      "outputs": []
    },
    {
      "cell_type": "code",
      "execution_count": null,
      "metadata": {
        "id": "t2WbnyFrOGKN"
      },
      "outputs": [],
      "source": [
        "import os\n",
        "import pandas as pd\n",
        "from googleapiclient.discovery import build\n",
        "\n",
        "# Substitua 'YOUR_API_KEY' pela sua chave de API do YouTube\n",
        "API_KEY = 'YOUR_API_KEY' # SUBSTITUA PELA SUA CHAVE\n",
        "\n",
        "# Crie uma instância do serviço do YouTube\n",
        "youtube = build('youtube', 'v3', developerKey=API_KEY)\n",
        "\n",
        "# Sua consulta de pesquisa\n",
        "query = \"ataque escola brasil\"  # SUAS CHAVES DE PESQUISA\n",
        "max_results = 50\n",
        "\n",
        "# Realize a pesquisa e obtenha os resultados de vídeos\n",
        "search_response = youtube.search().list(\n",
        "   q=query,\n",
        "   type='video',\n",
        "   part='id',\n",
        "   maxResults=max_results\n",
        ").execute()\n",
        "\n",
        "# Lista para armazenar informações dos vídeos\n",
        "video_info_list = []\n",
        "\n",
        "for search_result in search_response.get('items', []):\n",
        "   video_id = search_result['id']['videoId']\n",
        "\n",
        "   # Obtenha informações detalhadas do vídeo\n",
        "   video_response = youtube.videos().list(\n",
        "       id=video_id,\n",
        "       part='snippet,statistics'\n",
        "   ).execute()\n",
        "\n",
        "   # Extrai as informações relevantes do vídeo, verificando se os campos existem\n",
        "   video_info = {\n",
        "       'Título do Vídeo': video_response['items'][0]['snippet']['title'],\n",
        "       'URL do Vídeo': f'https://www.youtube.com/watch?v={video_id}',\n",
        "       'Quantidade de Comentários': video_response['items'][0]['statistics'].get('commentCount', 0),\n",
        "       'Quantidade de Curtidas': video_response['items'][0]['statistics'].get('likeCount', 0)\n",
        "   }\n",
        "\n",
        "   video_info_list.append(video_info)\n",
        "\n",
        "# Crie um DataFrame com as informações dos vídeos\n",
        "df = pd.DataFrame(video_info_list)\n",
        "\n",
        "# Exporte o DataFrame para um arquivo CSV\n",
        "df.to_csv('resultados_da_pesquisa.csv', index=False)\n"
      ]
    },
    {
      "cell_type": "code",
      "execution_count": null,
      "metadata": {
        "id": "VoVGmXNgOGKO"
      },
      "outputs": [],
      "source": [
        "display(df)"
      ]
    },
    {
      "cell_type": "code",
      "execution_count": null,
      "metadata": {
        "id": "Y9ou95BcOGKP"
      },
      "outputs": [],
      "source": [
        "from youtube_comment_downloader import YoutubeCommentDownloader, SORT_BY_POPULAR\n",
        "import pandas as pd\n",
        "\n",
        "def get_comments(video_url2):\n",
        "    # Crie uma instância do YoutubeCommentDownloader e configure o idioma para Português Brasileiro\n",
        "    downloader2 = YoutubeCommentDownloader()\n",
        "\n",
        "    # Obtenha os comentários populares do vídeo\n",
        "    comments2 = downloader2.get_comments_from_url(video_url2, sort_by=SORT_BY_POPULAR)\n",
        "    return comments2\n",
        "\n",
        "# URL do primeiro vídeo\n",
        "url1 = pd.read_csv('CAMINHO_DO_ARQUIVO.csv')\n",
        "\n",
        "# Selecione a coluna 'URL do Vídeo'\n",
        "url = url1['URL do Vídeo']\n",
        "\n",
        "# Processar todas as URLs na lista\n",
        "all_comments_df = pd.DataFrame(columns=[\"text\", \"time\", \"votes\", \"cid\", \"reply\", \"heart\", \"author\"])\n",
        "\n",
        "# Processar todas as URLs na lista e combinar os comentários em um único DataFrame\n",
        "for url in url:\n",
        "    comments = get_comments(url)\n",
        "    comments_df = pd.DataFrame(comments, columns=[\"text\", \"time\", \"votes\", \"cid\", \"reply\",\"heart\", \"author\"])\n",
        "    all_comments_df = pd.concat([all_comments_df, comments_df], ignore_index=True)\n",
        "\n",
        "# Exiba os 10 primeiros comentários de todos os vídeos\n",
        "print(all_comments_df.head(10))\n",
        "\n",
        "# Salve os comentários em um arquivo CSV\n",
        "all_comments_df.to_csv(\"all_comments.csv\", index=False)"
      ]
    },
    {
      "cell_type": "markdown",
      "source": [
        "Autoria: Ricardo Cabral Penteado\n",
        "\n",
        "Contato: ricardo.penteado@usp.br"
      ],
      "metadata": {
        "id": "73ds7ClRRdZk"
      }
    }
  ],
  "metadata": {
    "language_info": {
      "name": "python"
    },
    "orig_nbformat": 4,
    "colab": {
      "provenance": []
    },
    "kernelspec": {
      "name": "python3",
      "display_name": "Python 3"
    }
  },
  "nbformat": 4,
  "nbformat_minor": 0
}